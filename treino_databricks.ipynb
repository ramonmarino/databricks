{
 "cells": [
  {
   "cell_type": "code",
   "execution_count": 0,
   "metadata": {
    "application/vnd.databricks.v1+cell": {
     "cellMetadata": {
      "byteLimit": 2048000,
      "rowLimit": 10000
     },
     "inputWidgets": {},
     "nuid": "6f7e024f-c933-492a-aab1-d0beb07f0dd0",
     "showTitle": false,
     "tableResultSettingsMap": {},
     "title": ""
    }
   },
   "outputs": [
    {
     "output_type": "stream",
     "name": "stdout",
     "output_type": "stream",
     "text": [
      "+------+-----+\n|  Nome|Idade|\n+------+-----+\n|Carlos|   40|\n|  João|   29|\n| Maria|   33|\n+------+-----+\n\n+------+-----+\n|  Nome|Idade|\n+------+-----+\n|Carlos|   40|\n| Maria|   33|\n+------+-----+\n\n+------+-----+\n|  Nome|Idade|\n+------+-----+\n|  João|   29|\n| Maria|   33|\n|Carlos|   40|\n+------+-----+\n\n---------------------------------------------------\n+----------+---------+--------+-----+\n|cliente_id|compra_id| produto| nome|\n+----------+---------+--------+-----+\n|         1|      101|Notebook| João|\n|         2|      102| Celular|Maria|\n|         1|      103| Teclado| João|\n+----------+---------+--------+-----+\n\n+----------+---------+--------+------+\n|cliente_id|compra_id| produto|  nome|\n+----------+---------+--------+------+\n|         1|      103| Teclado|  João|\n|         1|      101|Notebook|  João|\n|         2|      102| Celular| Maria|\n|         3|     null|    null|Carlos|\n+----------+---------+--------+------+\n\n+----------+---------+--------+------+\n|cliente_id|compra_id| produto|  nome|\n+----------+---------+--------+------+\n|         1|      101|Notebook|  João|\n|         1|      103| Teclado|  João|\n|         2|      102| Celular| Maria|\n|         3|     null|    null|Carlos|\n+----------+---------+--------+------+\n\n+----------+---------+--------+-----+\n|cliente_id|compra_id| produto| nome|\n+----------+---------+--------+-----+\n|         1|      101|Notebook| João|\n|         1|      103| Teclado| João|\n|         2|      102| Celular|Maria|\n+----------+---------+--------+-----+\n\n"
     ]
    }
   ],
   "source": [
    "\n",
    "\n",
    "# Criando um DataFrame no PySpark\n",
    "data = [(\"João\", 29), (\"Maria\", 33), (\"Carlos\", 40), (\"Ramon\", 40)]\n",
    "df = spark.createDataFrame(data, [\"Nome\", \"Idade\"])\n",
    "\n",
    "df.write.mode(\"overwrite\").option(\"header\", True).csv(\"/tmp/vendas\")\n",
    "\n",
    "df_csv = spark.read.option(\"header\", True).csv(\"/tmp/vendas\")\n",
    "df_csv.show()\n",
    "df_csv.filter(df_csv[\"Idade\"] > 30).show()\n",
    "\n",
    "\n",
    "df.show()\n",
    "\n",
    "print(\"---------------------------------------------------\")\n",
    "# tabelas feita dataframe\n",
    "clientes = spark.createDataFrame([\n",
    "    (1, \"João\"),\n",
    "    (2, \"Maria\"),\n",
    "    (3, \"Carlos\")\n",
    "], [\"cliente_id\", \"nome\"])\n",
    "\n",
    "compras = spark.createDataFrame([\n",
    "    (101, 1, \"Notebook\"),\n",
    "    (102, 2, \"Celular\"),\n",
    "    (103, 1, \"Teclado\")\n",
    "], [\"compra_id\", \"cliente_id\", \"produto\"])\n",
    "# correspondência entre dois registros inner\n",
    "resultado = compras.join(clientes, on=\"cliente_id\", how= \"inner\") \n",
    "\n",
    "resultado_left = compras.join(clientes, on=\"cliente_id\", how=\"left\")\n",
    "resultado_left.show()\n",
    "\n",
    "resultado_right = compras.join(clientes, on=\"cliente_id\", how=\"right\")\n",
    "resultado_right.show()\n",
    "\n",
    "resultado_outer = compras.join(clientes, on=\"cliente_id\", how=\"outer\")\n",
    "resultado_outer.show()\n",
    "\n",
    "resultado.show()\n"
   ]
  }
 ],
 "metadata": {
  "application/vnd.databricks.v1+notebook": {
   "computePreferences": null,
   "dashboards": [],
   "environmentMetadata": {
    "base_environment": "",
    "environment_version": "1"
   },
   "inputWidgetPreferences": null,
   "language": "python",
   "notebookMetadata": {
    "pythonIndentUnit": 4
   },
   "notebookName": "treino_databricks",
   "widgets": {}
  }
 },
 "nbformat": 4,
 "nbformat_minor": 0
}